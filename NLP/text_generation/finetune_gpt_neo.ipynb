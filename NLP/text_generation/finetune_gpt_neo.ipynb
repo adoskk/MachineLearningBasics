{
 "cells": [
  {
   "cell_type": "markdown",
   "metadata": {},
   "source": [
    "# Text Generation with gpt-neo\n",
    "author: Mengliu Zhao\\\n",
    "date: Aug 5, 2024\n",
    "\n",
    "This notebook is a demo on finetuning EleutherAI's gpt-neo-1.3B model for text generation purposes:\n",
    "* gpt-neo-1.3B: https://huggingface.co/EleutherAI/gpt-neo-1.3B\n",
    "* dataset source: https://www.kaggle.com/datasets/adammcmurchie/news-headlines-summary-from-select-12-sources\n",
    "* hardward: single A-100 GPU\n",
    "* python version: 3.10.2\n",
    "\n",
    "Install requirements:\\\n",
    "`pip install -r requirements.txt`\n",
    "\n",
    "The trained model weights can be downloaded from [here](https://drive.google.com/drive/folders/1--dJ-7tcugnPoN5KallktRsQ7P_Sx63L?usp=sharing). To use it, simply put the downloaded \"checkpoint-10000\" folder under \"model_weights\" directory.\n",
    "\n"
   ]
  },
  {
   "cell_type": "markdown",
   "metadata": {},
   "source": [
    "## 1. Dataset EDA\n",
    "The News Headlines & Summary dataset only contains one csv file. We randomly split 5% rows for testing purposes and use the rest for training purposes.\n",
    "\n",
    "We'll run a statistical analysis of the sequence length and set the max_len=64 for the tokenizer.\n"
   ]
  },
  {
   "cell_type": "code",
   "execution_count": 3,
   "metadata": {},
   "outputs": [
    {
     "name": "stdout",
     "output_type": "stream",
     "text": [
      "  Unnamed: 0    source    author  \\\n",
      "0          0  BBC News  BBC News   \n",
      "1          0  BBC News  BBC News   \n",
      "2          0  BBC News  BBC News   \n",
      "3          0  BBC News  BBC News   \n",
      "4          0  BBC News  BBC News   \n",
      "5          0  BBC News  BBC News   \n",
      "6          0  BBC News  BBC News   \n",
      "7          0  BBC News  BBC News   \n",
      "8          0  BBC News  BBC News   \n",
      "9          0  BBC News  BBC News   \n",
      "\n",
      "                                               title  \\\n",
      "0  Coronavirus fears see South by Southwest cance...   \n",
      "1  Woody Allen book pulped after walkout at publi...   \n",
      "2  Blind man denied US citizenship over Braille test   \n",
      "3  Clinton claims Lewinsky affair 'managed anxiet...   \n",
      "4          Teen abducted 'over brother's drugs debt'   \n",
      "5     Why the wait for a female US president goes on   \n",
      "6        Top Afghan officials escape deadly shooting   \n",
      "7       Young chess players 'killed by laughing gas'   \n",
      "8   Coronavirus: China announces more imported cases   \n",
      "9    'The positive things we learnt from quarantine'   \n",
      "\n",
      "                                         description  \\\n",
      "0  The world-famous music event in Austin, Texas ...   \n",
      "1  Hachette staff protested over the book deal fo...   \n",
      "2  US immigration agents denied a blind man the u...   \n",
      "3  The former president was impeached in 1998 for...   \n",
      "4  He is believed to be a victim of reprisal over...   \n",
      "5  In America, electability is code for old, whit...   \n",
      "6  Afghanistan's chief executive escaped unharmed...   \n",
      "7  A 27-year-old Ukrainian chess champion and his...   \n",
      "8  Meanwhile in California, a helicopter drops te...   \n",
      "9  Cheryl and Paul Molesky kept a video diary cha...   \n",
      "\n",
      "                                                 url requested_date  \\\n",
      "0  http://www.bbc.co.uk/news/world-us-canada-5177...     2020-03-07   \n",
      "1  http://www.bbc.co.uk/news/world-us-canada-5177...     2020-03-07   \n",
      "2  http://www.bbc.co.uk/news/world-us-canada-5176...     2020-03-07   \n",
      "3  http://www.bbc.co.uk/news/world-us-canada-5176...     2020-03-07   \n",
      "4  http://www.bbc.co.uk/news/world-us-canada-5177...     2020-03-07   \n",
      "5  http://www.bbc.co.uk/news/world-us-canada-5177...     2020-03-07   \n",
      "6      http://www.bbc.co.uk/news/world-asia-51766602     2020-03-07   \n",
      "7    http://www.bbc.co.uk/news/world-europe-51767082     2020-03-07   \n",
      "8  http://www.bbc.co.uk/news/live/world-asia-5176...     2020-03-07   \n",
      "9  http://www.bbc.co.uk/news/world-us-canada-5168...     2020-03-07   \n",
      "\n",
      "                    publishedAt  \\\n",
      "0          2020-03-06T23:40:28Z   \n",
      "1          2020-03-06T21:51:11Z   \n",
      "2          2020-03-06T17:28:42Z   \n",
      "3          2020-03-06T16:56:35Z   \n",
      "4          2020-03-06T16:40:18Z   \n",
      "5          2020-03-06T16:22:55Z   \n",
      "6          2020-03-06T11:45:34Z   \n",
      "7          2020-03-06T10:25:31Z   \n",
      "8  2020-03-06T04:38:24.7036234Z   \n",
      "9          2020-03-02T20:59:51Z   \n",
      "\n",
      "                                             content  \n",
      "0  Image copyrightGetty ImagesImage caption\\r\\n A...  \n",
      "1  Image copyrightGetty Images/PA MediaImage capt...  \n",
      "2  Image copyrightCBSImage caption\\r\\n Lucio Delg...  \n",
      "3  Image copyrightEPAImage caption\\r\\n He made th...  \n",
      "4  Image copyrightToronto Police handout Image ca...  \n",
      "5  Image copyrightGetty Images\\r\\nTulsi Gabbard h...  \n",
      "6  Image copyrightAFPImage caption\\r\\n A man inju...  \n",
      "7  Image copyrightBogdanovich/Vernigora/FacebookI...  \n",
      "8  The patient is a 76-year-old man from the US, ...  \n",
      "9                                                NaN  \n"
     ]
    }
   ],
   "source": [
    "import pandas as pd\n",
    "\n",
    "df = pd.read_csv(\"./data/full_data.csv\")\n",
    "\n",
    "print(df[:10])"
   ]
  },
  {
   "cell_type": "code",
   "execution_count": 4,
   "metadata": {},
   "outputs": [
    {
     "data": {
      "image/png": "[encoded data removed]",
      "text/plain": [
       "<Figure size 640x480 with 1 Axes>"
      ]
     },
     "metadata": {},
     "output_type": "display_data"
    }
   ],
   "source": [
    "import matplotlib.pyplot as plt\n",
    "from matplotlib.pyplot import hist\n",
    "\n",
    "from transformers import AutoTokenizer\n",
    "\n",
    "tokenizer = AutoTokenizer.from_pretrained(\"EleutherAI/gpt-neo-1.3B\")\n",
    "tokenizer.pad_token = tokenizer.eos_token\n",
    "\n",
    "seq_len = []\n",
    "for desc in df[\"description\"].tolist():\n",
    "    if desc is not None and isinstance(desc, str):\n",
    "        input = tokenizer(desc)\n",
    "        seq_len.append(len(input[\"input_ids\"]))\n",
    "\n",
    "plt.figure()\n",
    "plt.title(\"Histogram of sequence length\")\n",
    "_ = hist(seq_len, 10)"
   ]
  },
  {
   "cell_type": "markdown",
   "metadata": {},
   "source": [
    "## 2. Pre-process Dataset\n",
    "\n",
    "We use Huggingface's datasets library to build the training and testing set.\n",
    "\n",
    "Make sure leave the downloaded csv file under the \"data\" folder and don't place any other csv file there as load_dataset will automatically read every csv file under the given folder."
   ]
  },
  {
   "cell_type": "code",
   "execution_count": 5,
   "metadata": {},
   "outputs": [
    {
     "name": "stderr",
     "output_type": "stream",
     "text": [
      "Generating train split: 35207 examples [00:00, 94897.56 examples/s]\n"
     ]
    }
   ],
   "source": [
    "from datasets import load_dataset\n",
    "\n",
    "dataset_train, dataset_test = load_dataset(\"data\", split=['train[:95%]', 'train[95%:]'])"
   ]
  },
  {
   "cell_type": "code",
   "execution_count": 6,
   "metadata": {},
   "outputs": [
    {
     "name": "stdout",
     "output_type": "stream",
     "text": [
      "Dataset({\n",
      "    features: ['Unnamed: 0', 'source', 'author', 'title', 'description', 'url', 'requested_date', 'publishedAt', 'content'],\n",
      "    num_rows: 33447\n",
      "})\n",
      "Dataset({\n",
      "    features: ['Unnamed: 0', 'source', 'author', 'title', 'description', 'url', 'requested_date', 'publishedAt', 'content'],\n",
      "    num_rows: 1760\n",
      "})\n"
     ]
    }
   ],
   "source": [
    "print(dataset_train)\n",
    "print(dataset_test)"
   ]
  },
  {
   "cell_type": "code",
   "execution_count": 7,
   "metadata": {},
   "outputs": [
    {
     "name": "stderr",
     "output_type": "stream",
     "text": [
      "Map: 100%|██████████| 33447/33447 [00:14<00:00, 2370.10 examples/s]\n",
      "Map: 100%|██████████| 1760/1760 [00:00<00:00, 2375.18 examples/s]\n"
     ]
    }
   ],
   "source": [
    "from transformers import AutoTokenizer\n",
    "\n",
    "tokenizer = AutoTokenizer.from_pretrained(\"EleutherAI/gpt-neo-1.3B\")\n",
    "tokenizer.pad_token = tokenizer.eos_token\n",
    "\n",
    "max_len = 64\n",
    "def tokenize_function(examples):\n",
    "    inputs = {\"input_ids\": [], \"attention_mask\": [], \"token_type_ids\": [], \"labels\": []}\n",
    "    for title, desc in zip(examples[\"title\"], examples[\"description\"]):\n",
    "        if title is not None and desc is not None:\n",
    "            tokenized_item = tokenizer.encode_plus(title,\n",
    "                                                   add_special_tokens=True,\n",
    "                                                    max_length=max_len,\n",
    "                                                    return_token_type_ids=True,\n",
    "                                                    truncation=True,\n",
    "                                                    padding=\"max_length\",\n",
    "                                                    )\n",
    "            \n",
    "            tokenized_label = tokenizer.encode_plus(desc, \n",
    "                                                    add_special_tokens=True,\n",
    "                                                    max_length=max_len,\n",
    "                                                    return_token_type_ids=True,\n",
    "                                                    truncation=True,\n",
    "                                                    padding=\"max_length\",\n",
    "                                                    )\n",
    "            \n",
    "            inputs[\"input_ids\"].append(tokenized_item[\"input_ids\"])\n",
    "            inputs[\"attention_mask\"].append(tokenized_item[\"attention_mask\"])\n",
    "            inputs[\"token_type_ids\"].append(tokenized_item[\"token_type_ids\"])\n",
    "            inputs[\"labels\"].append(tokenized_label[\"input_ids\"])\n",
    "    return inputs\n",
    "\n",
    "tokenized_train = dataset_train.map(\n",
    "    tokenize_function,\n",
    "    batched=True,\n",
    "    batch_size=10,\n",
    "    remove_columns=dataset_train.column_names,\n",
    ")\n",
    "\n",
    "tokenized_test = dataset_test.map(\n",
    "    tokenize_function,\n",
    "    batched=True,\n",
    "    batch_size=10,\n",
    "    remove_columns=dataset_test.column_names,\n",
    ")"
   ]
  },
  {
   "cell_type": "markdown",
   "metadata": {},
   "source": [
    "## 3. Model Training\n",
    "We use the Trainer to finetune the GPT model."
   ]
  },
  {
   "cell_type": "code",
   "execution_count": null,
   "metadata": {},
   "outputs": [],
   "source": [
    "from transformers import (AutoModelForCausalLM, \n",
    "                          TrainingArguments, \n",
    "                          Trainer,\n",
    "                          DataCollatorForLanguageModeling,\n",
    "                          AutoTokenizer,\n",
    ")\n",
    "\n",
    "tokenizer = AutoTokenizer.from_pretrained(\"EleutherAI/gpt-neo-1.3B\")\n",
    "tokenizer.pad_token = tokenizer.eos_token\n",
    "\n",
    "data_collator = DataCollatorForLanguageModeling(tokenizer=tokenizer, mlm=False)\n",
    "model = AutoModelForCausalLM.from_pretrained(\"EleutherAI/gpt-neo-1.3B\")\n",
    "\n",
    "training_args = TrainingArguments(\n",
    "    output_dir=\"model_weights\",\n",
    "    eval_strategy=\"steps\",\n",
    "    eval_steps=1000,\n",
    "    learning_rate=2e-5,\n",
    "    weight_decay=0.01,\n",
    "    push_to_hub=False,\n",
    "    fp16=True,\n",
    "    do_train=True,\n",
    "    do_eval=True,\n",
    "    per_device_train_batch_size=4,\n",
    "    per_device_eval_batch_size=1,\n",
    "    max_steps=10000,\n",
    "    save_strategy=\"steps\",\n",
    "    save_steps=10000,\n",
    "    fp16_opt_level=\"O3\",\n",
    "    save_only_model=True,\n",
    ")\n",
    "\n",
    "trainer = Trainer(\n",
    "    model=model,\n",
    "    args=training_args,\n",
    "    train_dataset=tokenized_train,\n",
    "    eval_dataset=tokenized_test,\n",
    "    data_collator=data_collator,\n",
    ")\n",
    "\n",
    "trainer.train()"
   ]
  },
  {
   "cell_type": "code",
   "execution_count": null,
   "metadata": {},
   "outputs": [],
   "source": [
    "from transformers import pipeline, AutoModelForCausalLM\n",
    "\n",
    "model = AutoModelForCausalLM.from_pretrained(\"model_weights/checkpoint-10000\")\n",
    "tokenizer = AutoTokenizer.from_pretrained(\"EleutherAI/gpt-neo-1.3B\")\n",
    "tokenizer.pad_token = tokenizer.eos_token\n",
    "\n",
    "generator = pipeline(\"text-generation\", model=model, tokenizer=tokenizer, max_length=64)\n",
    "\n",
    "titles = dataset_test[\"title\"]\n",
    "descs = dataset_test[\"description\"]\n",
    "\n",
    "for t, d in zip(titles[:4], descs[:4]):\n",
    "    print(\"=\"*20)\n",
    "    print(\"Title\", t)\n",
    "    print(\"Description\", d)\n",
    "    print(\"Generated\", generator(t))"
   ]
  }
 ],
 "metadata": {
  "kernelspec": {
   "display_name": "gradio",
   "language": "python",
   "name": "python3"
  },
  "language_info": {
   "codemirror_mode": {
    "name": "ipython",
    "version": 3
   },
   "file_extension": ".py",
   "mimetype": "text/x-python",
   "name": "python",
   "nbconvert_exporter": "python",
   "pygments_lexer": "ipython3",
   "version": "3.11.9"
  }
 },
 "nbformat": 4,
 "nbformat_minor": 2
}
